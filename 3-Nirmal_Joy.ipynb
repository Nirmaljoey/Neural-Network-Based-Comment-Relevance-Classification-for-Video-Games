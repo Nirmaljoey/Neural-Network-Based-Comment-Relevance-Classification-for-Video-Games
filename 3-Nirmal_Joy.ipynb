{
 "cells": [
  {
   "cell_type": "markdown",
   "metadata": {},
   "source": [
    "# Install\n",
    "\n",
    "```bash\n",
    "pip install pandas tqdm watermark\n",
    "```"
   ]
  },
  {
   "cell_type": "markdown",
   "metadata": {},
   "source": [
    "# Prepare dataset for scoring"
   ]
  },
  {
   "cell_type": "code",
   "execution_count": 1,
   "metadata": {},
   "outputs": [
    {
     "data": {
      "text/plain": [
       "((4975, 2), (246946, 2))"
      ]
     },
     "execution_count": 1,
     "metadata": {},
     "output_type": "execute_result"
    }
   ],
   "source": [
    "import pandas as pd\n",
    "from watermark import watermark\n",
    "\n",
    "\n",
    "games = pd.read_csv(\"C:/Users/amalj/OneDrive/Desktop/Machine learning subjects/Machine learning DM2/H3/games5k.csv\")\n",
    "review = pd.read_csv(\"C:/Users/amalj/OneDrive/Desktop/Machine learning subjects/Machine learning DM2/H3/review5k.csv\")\n",
    "games.shape, review.shape"
   ]
  },
  {
   "cell_type": "code",
   "execution_count": 2,
   "metadata": {},
   "outputs": [
    {
     "data": {
      "text/plain": [
       "(121264, 3)"
      ]
     },
     "execution_count": 2,
     "metadata": {},
     "output_type": "execute_result"
    }
   ],
   "source": [
    "# PLEASE DO NOT CHANGE THE CODE IN THIS CELL\n",
    "review_with_desc = review.merge(games, on=['game'], how='left')\n",
    "# keep comments with know game description\n",
    "review_with_desc = review_with_desc[~review_with_desc['desc'].isnull()]\n",
    "# set new order for column\n",
    "review_with_desc = review_with_desc[['game', 'comment', 'desc']]\n",
    "review_with_desc.shape"
   ]
  },
  {
   "cell_type": "code",
   "execution_count": 3,
   "metadata": {},
   "outputs": [
    {
     "data": {
      "text/html": [
       "<div>\n",
       "<style scoped>\n",
       "    .dataframe tbody tr th:only-of-type {\n",
       "        vertical-align: middle;\n",
       "    }\n",
       "\n",
       "    .dataframe tbody tr th {\n",
       "        vertical-align: top;\n",
       "    }\n",
       "\n",
       "    .dataframe thead th {\n",
       "        text-align: right;\n",
       "    }\n",
       "</style>\n",
       "<table border=\"1\" class=\"dataframe\">\n",
       "  <thead>\n",
       "    <tr style=\"text-align: right;\">\n",
       "      <th></th>\n",
       "      <th>game</th>\n",
       "      <th>comment</th>\n",
       "      <th>desc</th>\n",
       "    </tr>\n",
       "  </thead>\n",
       "  <tbody>\n",
       "    <tr>\n",
       "      <th>2</th>\n",
       "      <td>Strat-O-Matic College Football</td>\n",
       "      <td>You wan na coach a &lt;UNK&gt; team ? This is your g...</td>\n",
       "      <td>There were two versions of this game - the fir...</td>\n",
       "    </tr>\n",
       "    <tr>\n",
       "      <th>3</th>\n",
       "      <td>Quartex</td>\n",
       "      <td>It 's a fine abstract game , but the tiles cou...</td>\n",
       "      <td>In &lt;UNK&gt; , players take turns placing a tile n...</td>\n",
       "    </tr>\n",
       "    <tr>\n",
       "      <th>4</th>\n",
       "      <td>In Tenebris Lux</td>\n",
       "      <td>I backed this on Kickstarter based solely on t...</td>\n",
       "      <td>ENTER A WORLD OF VICTORIAN HORROR ! In 19th-ce...</td>\n",
       "    </tr>\n",
       "    <tr>\n",
       "      <th>6</th>\n",
       "      <td>Give It to the King!</td>\n",
       "      <td>{ O : Robert } Traded Away for Ark of the Cove...</td>\n",
       "      <td>&lt;UNK&gt; It to the &lt;UNK&gt; is a game for 2-4 player...</td>\n",
       "    </tr>\n",
       "    <tr>\n",
       "      <th>7</th>\n",
       "      <td>Cthulhu: The Horror in Dunwich</td>\n",
       "      <td>Giving this a 1 as a public service to any pot...</td>\n",
       "      <td>&lt;UNK&gt; The &lt;UNK&gt; In &lt;UNK&gt; , a standalone expans...</td>\n",
       "    </tr>\n",
       "  </tbody>\n",
       "</table>\n",
       "</div>"
      ],
      "text/plain": [
       "                             game  \\\n",
       "2  Strat-O-Matic College Football   \n",
       "3                         Quartex   \n",
       "4                 In Tenebris Lux   \n",
       "6            Give It to the King!   \n",
       "7  Cthulhu: The Horror in Dunwich   \n",
       "\n",
       "                                             comment  \\\n",
       "2  You wan na coach a <UNK> team ? This is your g...   \n",
       "3  It 's a fine abstract game , but the tiles cou...   \n",
       "4  I backed this on Kickstarter based solely on t...   \n",
       "6  { O : Robert } Traded Away for Ark of the Cove...   \n",
       "7  Giving this a 1 as a public service to any pot...   \n",
       "\n",
       "                                                desc  \n",
       "2  There were two versions of this game - the fir...  \n",
       "3  In <UNK> , players take turns placing a tile n...  \n",
       "4  ENTER A WORLD OF VICTORIAN HORROR ! In 19th-ce...  \n",
       "6  <UNK> It to the <UNK> is a game for 2-4 player...  \n",
       "7  <UNK> The <UNK> In <UNK> , a standalone expans...  "
      ]
     },
     "execution_count": 3,
     "metadata": {},
     "output_type": "execute_result"
    }
   ],
   "source": [
    "review_with_desc.head()"
   ]
  },
  {
   "cell_type": "code",
   "execution_count": 4,
   "metadata": {},
   "outputs": [
    {
     "data": {
      "text/html": [
       "<div>\n",
       "<style scoped>\n",
       "    .dataframe tbody tr th:only-of-type {\n",
       "        vertical-align: middle;\n",
       "    }\n",
       "\n",
       "    .dataframe tbody tr th {\n",
       "        vertical-align: top;\n",
       "    }\n",
       "\n",
       "    .dataframe thead th {\n",
       "        text-align: right;\n",
       "    }\n",
       "</style>\n",
       "<table border=\"1\" class=\"dataframe\">\n",
       "  <thead>\n",
       "    <tr style=\"text-align: right;\">\n",
       "      <th></th>\n",
       "      <th>game</th>\n",
       "      <th>comment</th>\n",
       "      <th>desc</th>\n",
       "    </tr>\n",
       "  </thead>\n",
       "  <tbody>\n",
       "    <tr>\n",
       "      <th>138175</th>\n",
       "      <td>Neon Gods</td>\n",
       "      <td>&lt;UNK&gt; is a prime example of how obsessive stre...</td>\n",
       "      <td>&lt;UNK&gt; is a story of street gangs set in a kale...</td>\n",
       "    </tr>\n",
       "    <tr>\n",
       "      <th>69805</th>\n",
       "      <td>Pro Foto-Football</td>\n",
       "      <td>I played it .5 times ( only half a game ) . It...</td>\n",
       "      <td>According to Sid Sacksons A Gamut of Games : O...</td>\n",
       "    </tr>\n",
       "    <tr>\n",
       "      <th>78645</th>\n",
       "      <td>Ducks in Tow</td>\n",
       "      <td>This is a charming game with a really unique t...</td>\n",
       "      <td>Welcome to the &lt;UNK&gt; Sanctuary ! Come enjoy th...</td>\n",
       "    </tr>\n",
       "    <tr>\n",
       "      <th>227447</th>\n",
       "      <td>Sorry! Spin</td>\n",
       "      <td>Not as impressed with this one , the gears are...</td>\n",
       "      <td>The twists and turns never end in this fun gam...</td>\n",
       "    </tr>\n",
       "    <tr>\n",
       "      <th>182533</th>\n",
       "      <td>Secrets of the Sea</td>\n",
       "      <td>After one play with two kids , it seems too lo...</td>\n",
       "      <td>The players are diving for sunken treasure ! E...</td>\n",
       "    </tr>\n",
       "    <tr>\n",
       "      <th>193521</th>\n",
       "      <td>Paul Koenig's D-Day: The Canadian Beach</td>\n",
       "      <td>See my review for details &lt;UNK&gt; http &lt;UNK&gt; //w...</td>\n",
       "      <td>Juno &lt;UNK&gt; The &lt;UNK&gt; is the first game in the ...</td>\n",
       "    </tr>\n",
       "    <tr>\n",
       "      <th>216776</th>\n",
       "      <td>Ada Lovelace: Consulting Mathematician</td>\n",
       "      <td>PnP</td>\n",
       "      <td>It is the summer of 1842 and the finest &lt;UNK&gt; ...</td>\n",
       "    </tr>\n",
       "    <tr>\n",
       "      <th>226715</th>\n",
       "      <td>Wings of Glory: WW2 Rules and Accessories Pack</td>\n",
       "      <td>Own have a couple of planes to play with - get...</td>\n",
       "      <td>&lt;UNK&gt; of &lt;UNK&gt; is a game system that allows pl...</td>\n",
       "    </tr>\n",
       "    <tr>\n",
       "      <th>148815</th>\n",
       "      <td>Ace of Aces: Jet Eagles</td>\n",
       "      <td>I recommend the rotary series over the &lt;UNK&gt; s...</td>\n",
       "      <td>From the makers of &lt;UNK&gt; of &lt;UNK&gt; , the WWI do...</td>\n",
       "    </tr>\n",
       "    <tr>\n",
       "      <th>224565</th>\n",
       "      <td>Kleine Magier</td>\n",
       "      <td>Eva Memory with some twists and really nice co...</td>\n",
       "      <td>Description from the box back : Turmoil in Won...</td>\n",
       "    </tr>\n",
       "  </tbody>\n",
       "</table>\n",
       "</div>"
      ],
      "text/plain": [
       "                                                  game  \\\n",
       "138175                                       Neon Gods   \n",
       "69805                                Pro Foto-Football   \n",
       "78645                                     Ducks in Tow   \n",
       "227447                                     Sorry! Spin   \n",
       "182533                              Secrets of the Sea   \n",
       "193521         Paul Koenig's D-Day: The Canadian Beach   \n",
       "216776          Ada Lovelace: Consulting Mathematician   \n",
       "226715  Wings of Glory: WW2 Rules and Accessories Pack   \n",
       "148815                         Ace of Aces: Jet Eagles   \n",
       "224565                                   Kleine Magier   \n",
       "\n",
       "                                                  comment  \\\n",
       "138175  <UNK> is a prime example of how obsessive stre...   \n",
       "69805   I played it .5 times ( only half a game ) . It...   \n",
       "78645   This is a charming game with a really unique t...   \n",
       "227447  Not as impressed with this one , the gears are...   \n",
       "182533  After one play with two kids , it seems too lo...   \n",
       "193521  See my review for details <UNK> http <UNK> //w...   \n",
       "216776                                                PnP   \n",
       "226715  Own have a couple of planes to play with - get...   \n",
       "148815  I recommend the rotary series over the <UNK> s...   \n",
       "224565  Eva Memory with some twists and really nice co...   \n",
       "\n",
       "                                                     desc  \n",
       "138175  <UNK> is a story of street gangs set in a kale...  \n",
       "69805   According to Sid Sacksons A Gamut of Games : O...  \n",
       "78645   Welcome to the <UNK> Sanctuary ! Come enjoy th...  \n",
       "227447  The twists and turns never end in this fun gam...  \n",
       "182533  The players are diving for sunken treasure ! E...  \n",
       "193521  Juno <UNK> The <UNK> is the first game in the ...  \n",
       "216776  It is the summer of 1842 and the finest <UNK> ...  \n",
       "226715  <UNK> of <UNK> is a game system that allows pl...  \n",
       "148815  From the makers of <UNK> of <UNK> , the WWI do...  \n",
       "224565  Description from the box back : Turmoil in Won...  "
      ]
     },
     "execution_count": 4,
     "metadata": {},
     "output_type": "execute_result"
    }
   ],
   "source": [
    "review_with_desc.sample(10)"
   ]
  },
  {
   "cell_type": "code",
   "execution_count": 5,
   "metadata": {},
   "outputs": [
    {
     "data": {
      "text/html": [
       "<div>\n",
       "<style scoped>\n",
       "    .dataframe tbody tr th:only-of-type {\n",
       "        vertical-align: middle;\n",
       "    }\n",
       "\n",
       "    .dataframe tbody tr th {\n",
       "        vertical-align: top;\n",
       "    }\n",
       "\n",
       "    .dataframe thead th {\n",
       "        text-align: right;\n",
       "    }\n",
       "</style>\n",
       "<table border=\"1\" class=\"dataframe\">\n",
       "  <thead>\n",
       "    <tr style=\"text-align: right;\">\n",
       "      <th></th>\n",
       "      <th>game</th>\n",
       "      <th>comment</th>\n",
       "      <th>desc</th>\n",
       "    </tr>\n",
       "  </thead>\n",
       "  <tbody>\n",
       "    <tr>\n",
       "      <th>2</th>\n",
       "      <td>Strat-O-Matic College Football</td>\n",
       "      <td>You wan na coach a &lt;UNK&gt; team ? This is your g...</td>\n",
       "      <td>There were two versions of this game - the fir...</td>\n",
       "    </tr>\n",
       "    <tr>\n",
       "      <th>3</th>\n",
       "      <td>Quartex</td>\n",
       "      <td>It 's a fine abstract game , but the tiles cou...</td>\n",
       "      <td>In &lt;UNK&gt; , players take turns placing a tile n...</td>\n",
       "    </tr>\n",
       "    <tr>\n",
       "      <th>4</th>\n",
       "      <td>In Tenebris Lux</td>\n",
       "      <td>I backed this on Kickstarter based solely on t...</td>\n",
       "      <td>ENTER A WORLD OF VICTORIAN HORROR ! In 19th-ce...</td>\n",
       "    </tr>\n",
       "    <tr>\n",
       "      <th>6</th>\n",
       "      <td>Give It to the King!</td>\n",
       "      <td>{ O : Robert } Traded Away for Ark of the Cove...</td>\n",
       "      <td>&lt;UNK&gt; It to the &lt;UNK&gt; is a game for 2-4 player...</td>\n",
       "    </tr>\n",
       "    <tr>\n",
       "      <th>7</th>\n",
       "      <td>Cthulhu: The Horror in Dunwich</td>\n",
       "      <td>Giving this a 1 as a public service to any pot...</td>\n",
       "      <td>&lt;UNK&gt; The &lt;UNK&gt; In &lt;UNK&gt; , a standalone expans...</td>\n",
       "    </tr>\n",
       "    <tr>\n",
       "      <th>...</th>\n",
       "      <td>...</td>\n",
       "      <td>...</td>\n",
       "      <td>...</td>\n",
       "    </tr>\n",
       "    <tr>\n",
       "      <th>246934</th>\n",
       "      <td>Bakerspeed</td>\n",
       "      <td>Essen auction list @</td>\n",
       "      <td>Investigate quickly ! LeStrade is already on h...</td>\n",
       "    </tr>\n",
       "    <tr>\n",
       "      <th>246935</th>\n",
       "      <td>ARTBOX</td>\n",
       "      <td>This game seems to be really simple , but in t...</td>\n",
       "      <td>&lt;UNK&gt; is a game in which each player becomes a...</td>\n",
       "    </tr>\n",
       "    <tr>\n",
       "      <th>246938</th>\n",
       "      <td>About Time</td>\n",
       "      <td>Relatively basic</td>\n",
       "      <td>Teams compete to guess closest to the year of ...</td>\n",
       "    </tr>\n",
       "    <tr>\n",
       "      <th>246939</th>\n",
       "      <td>Taxi!</td>\n",
       "      <td>I simple `` family '' game that will not reall...</td>\n",
       "      <td>Players represent drivers plying for hire on t...</td>\n",
       "    </tr>\n",
       "    <tr>\n",
       "      <th>246945</th>\n",
       "      <td>El Día Más Largo</td>\n",
       "      <td>rules in spanish</td>\n",
       "      <td>This game portrays D-Day combat and the battle...</td>\n",
       "    </tr>\n",
       "  </tbody>\n",
       "</table>\n",
       "<p>121264 rows × 3 columns</p>\n",
       "</div>"
      ],
      "text/plain": [
       "                                  game  \\\n",
       "2       Strat-O-Matic College Football   \n",
       "3                              Quartex   \n",
       "4                      In Tenebris Lux   \n",
       "6                 Give It to the King!   \n",
       "7       Cthulhu: The Horror in Dunwich   \n",
       "...                                ...   \n",
       "246934                      Bakerspeed   \n",
       "246935                          ARTBOX   \n",
       "246938                      About Time   \n",
       "246939                           Taxi!   \n",
       "246945                El Día Más Largo   \n",
       "\n",
       "                                                  comment  \\\n",
       "2       You wan na coach a <UNK> team ? This is your g...   \n",
       "3       It 's a fine abstract game , but the tiles cou...   \n",
       "4       I backed this on Kickstarter based solely on t...   \n",
       "6       { O : Robert } Traded Away for Ark of the Cove...   \n",
       "7       Giving this a 1 as a public service to any pot...   \n",
       "...                                                   ...   \n",
       "246934                               Essen auction list @   \n",
       "246935  This game seems to be really simple , but in t...   \n",
       "246938                                   Relatively basic   \n",
       "246939  I simple `` family '' game that will not reall...   \n",
       "246945                                   rules in spanish   \n",
       "\n",
       "                                                     desc  \n",
       "2       There were two versions of this game - the fir...  \n",
       "3       In <UNK> , players take turns placing a tile n...  \n",
       "4       ENTER A WORLD OF VICTORIAN HORROR ! In 19th-ce...  \n",
       "6       <UNK> It to the <UNK> is a game for 2-4 player...  \n",
       "7       <UNK> The <UNK> In <UNK> , a standalone expans...  \n",
       "...                                                   ...  \n",
       "246934  Investigate quickly ! LeStrade is already on h...  \n",
       "246935  <UNK> is a game in which each player becomes a...  \n",
       "246938  Teams compete to guess closest to the year of ...  \n",
       "246939  Players represent drivers plying for hire on t...  \n",
       "246945  This game portrays D-Day combat and the battle...  \n",
       "\n",
       "[121264 rows x 3 columns]"
      ]
     },
     "execution_count": 5,
     "metadata": {},
     "output_type": "execute_result"
    }
   ],
   "source": [
    "review_with_desc"
   ]
  },
  {
   "cell_type": "markdown",
   "metadata": {},
   "source": [
    "### Text preprocessing"
   ]
  },
  {
   "cell_type": "code",
   "execution_count": 6,
   "metadata": {},
   "outputs": [
    {
     "name": "stderr",
     "output_type": "stream",
     "text": [
      "[nltk_data] Downloading package punkt to C:\\Users\\amalj/nltk_data...\n",
      "[nltk_data]   Package punkt is already up-to-date!\n",
      "[nltk_data] Downloading package wordnet to C:\\Users\\amalj/nltk_data...\n",
      "[nltk_data]   Package wordnet is already up-to-date!\n",
      "[nltk_data] Downloading package stopwords to\n",
      "[nltk_data]     C:\\Users\\amalj/nltk_data...\n",
      "[nltk_data]   Package stopwords is already up-to-date!\n"
     ]
    },
    {
     "data": {
      "application/vnd.jupyter.widget-view+json": {
       "model_id": "8be523aae317402b8117fc475502ad37",
       "version_major": 2,
       "version_minor": 0
      },
      "text/plain": [
       "  0%|          | 0/121264 [00:00<?, ?it/s]"
      ]
     },
     "metadata": {},
     "output_type": "display_data"
    },
    {
     "data": {
      "application/vnd.jupyter.widget-view+json": {
       "model_id": "8fed47dbb8744ca58fd4fb9dfc650068",
       "version_major": 2,
       "version_minor": 0
      },
      "text/plain": [
       "  0%|          | 0/121264 [00:00<?, ?it/s]"
      ]
     },
     "metadata": {},
     "output_type": "display_data"
    }
   ],
   "source": [
    "import pandas as pd\n",
    "import re\n",
    "import unicodedata\n",
    "from nltk.corpus import stopwords\n",
    "from nltk.tokenize import word_tokenize\n",
    "from nltk.stem import WordNetLemmatizer\n",
    "from tqdm.notebook import tqdm\n",
    "from langdetect import detect\n",
    "\n",
    "import nltk\n",
    "nltk.download('punkt')\n",
    "nltk.download('wordnet')\n",
    "nltk.download('stopwords')\n",
    "\n",
    "stop_words = set(stopwords.words('english'))\n",
    "lemmatizer = WordNetLemmatizer()\n",
    "\n",
    "def preprocess_text(text):\n",
    "    if not isinstance(text, str):\n",
    "        return \"\" \n",
    "    \n",
    "    text = unicodedata.normalize('NFKC', text)\n",
    "    text = re.sub(r\"<UNK>\", \"\", text)\n",
    "    text = re.sub(r\"&\\w+;\", \"\", text)\n",
    "    text = re.sub(r\"[^\\w\\s]\", \" \", text)\n",
    "    text = re.sub(r\"\\d+\", \"\", text) \n",
    "\n",
    "    text = text.lower()\n",
    "    tokens = word_tokenize(text)\n",
    "    tokens = [word for word in tokens if word not in stop_words]\n",
    "\n",
    "    lemmatized_tokens = [lemmatizer.lemmatize(token) for token in tokens]\n",
    "    \n",
    "    return \" \".join(lemmatized_tokens)\n",
    "\n",
    "def detect_and_translate(text):\n",
    "    try:\n",
    "        lang = detect(text)\n",
    "        if lang != 'en':\n",
    "        \n",
    "            return \"Non-English Text Detected\"\n",
    "        return text\n",
    "    except:\n",
    "        return text\n",
    "\n",
    "def preprocess_pipeline(row):\n",
    "    row['comment'] = preprocess_text(detect_and_translate(row['comment']))\n",
    "    row['desc'] = preprocess_text(detect_and_translate(row['desc']))\n",
    "    return row\n",
    "\n",
    "tqdm.pandas()\n",
    "review_with_desc['comment'] = review_with_desc['comment'].progress_apply(lambda x: preprocess_text(detect_and_translate(x)))\n",
    "review_with_desc['desc'] = review_with_desc['desc'].progress_apply(lambda x: preprocess_text(detect_and_translate(x)))\n"
   ]
  },
  {
   "cell_type": "code",
   "execution_count": 7,
   "metadata": {},
   "outputs": [
    {
     "name": "stdout",
     "output_type": "stream",
     "text": [
      "Number of non-text blank rows in 'comment' column: 1278\n"
     ]
    }
   ],
   "source": [
    "import pandas as pd\n",
    "\n",
    "def count_non_text_blank_rows(df, column_name):\n",
    "    non_text_blank_rows = df[df[column_name].apply(lambda x: not isinstance(x, str) or x.strip() == \"\")]\n",
    "    return len(non_text_blank_rows)\n",
    "\n",
    "# Example usage\n",
    "non_text_blank_count = count_non_text_blank_rows(review_with_desc, 'comment')\n",
    "print(f\"Number of non-text blank rows in 'comment' column: {non_text_blank_count}\")\n"
   ]
  },
  {
   "cell_type": "code",
   "execution_count": 8,
   "metadata": {},
   "outputs": [
    {
     "data": {
      "text/plain": [
       "(121264, 3)"
      ]
     },
     "execution_count": 8,
     "metadata": {},
     "output_type": "execute_result"
    }
   ],
   "source": [
    "review_with_desc.shape"
   ]
  },
  {
   "cell_type": "code",
   "execution_count": 24,
   "metadata": {},
   "outputs": [],
   "source": [
    "review_with_desc['comment'] = review_with_desc['comment'].fillna(\"There is no comment for this game.\")\n",
    "review_with_desc['comment'] = review_with_desc['comment'].replace(\"\", \"There is no comment for this game.\")"
   ]
  },
  {
   "cell_type": "code",
   "execution_count": null,
   "metadata": {},
   "outputs": [
    {
     "name": "stdout",
     "output_type": "stream",
     "text": [
      "Number of non-text blank rows in 'comment' column: 0\n"
     ]
    }
   ],
   "source": [
    "import pandas as pd\n",
    "def count_non_text_blank_rows(df, column_name):\n",
    "    non_text_blank_rows = df[df[column_name].apply(lambda x: not isinstance(x, str) or x.strip() == \"\")]\n",
    "    return len(non_text_blank_rows)\n",
    "\n",
    "non_text_blank_count = count_non_text_blank_rows(review_with_desc, 'comment')\n",
    "print(f\"Number of non-text blank rows in 'comment' column: {non_text_blank_count}\")\n"
   ]
  },
  {
   "cell_type": "markdown",
   "metadata": {},
   "source": [
    "# Using Transformers"
   ]
  },
  {
   "cell_type": "markdown",
   "metadata": {},
   "source": [
    "### Using BERT (bert-base-uncased)"
   ]
  },
  {
   "cell_type": "code",
   "execution_count": 17,
   "metadata": {},
   "outputs": [
    {
     "data": {
      "application/vnd.jupyter.widget-view+json": {
       "model_id": "7228700ab61447cf91b5b44c6653de49",
       "version_major": 2,
       "version_minor": 0
      },
      "text/plain": [
       "Processing BERT Embeddings:   0%|          | 0/121264 [00:00<?, ?it/s]"
      ]
     },
     "metadata": {},
     "output_type": "display_data"
    },
    {
     "data": {
      "application/vnd.jupyter.widget-view+json": {
       "model_id": "76a4421c1bb64744a97e858ab889b082",
       "version_major": 2,
       "version_minor": 0
      },
      "text/plain": [
       "Processing BERT Embeddings:   0%|          | 0/121264 [00:00<?, ?it/s]"
      ]
     },
     "metadata": {},
     "output_type": "display_data"
    }
   ],
   "source": [
    "import torch\n",
    "from transformers import BertTokenizer, BertModel\n",
    "from sklearn.metrics.pairwise import cosine_similarity\n",
    "import numpy as np\n",
    "import pandas as pd\n",
    "from tqdm.notebook import tqdm\n",
    "\n",
    "\n",
    "tokenizer = BertTokenizer.from_pretrained('bert-base-uncased')\n",
    "model = BertModel.from_pretrained('bert-base-uncased')\n",
    "\n",
    "def get_bert_embeddings(text):\n",
    "    inputs = tokenizer(text, return_tensors='pt', truncation=True, padding=True, max_length=512)\n",
    "    with torch.no_grad():\n",
    "        outputs = model(**inputs)\n",
    "    return outputs.last_hidden_state.mean(dim=1).squeeze().numpy()\n",
    "\n",
    "tqdm.pandas(desc=\"Processing BERT Embeddings\")\n",
    "\n",
    "review_with_desc['desc_embedding'] = review_with_desc['desc'].progress_apply(lambda x: get_bert_embeddings(x) if isinstance(x, str) else np.zeros(768))\n",
    "review_with_desc['comment_embedding'] = review_with_desc['comment'].progress_apply(lambda x: get_bert_embeddings(x) if isinstance(x, str) else np.zeros(768))"
   ]
  },
  {
   "cell_type": "markdown",
   "metadata": {},
   "source": [
    "# Your Algorithm for calculate distance"
   ]
  },
  {
   "cell_type": "markdown",
   "metadata": {},
   "source": [
    "### FInding the Distances "
   ]
  },
  {
   "cell_type": "markdown",
   "metadata": {},
   "source": [
    "#### BERT (bert-base-uncased)"
   ]
  },
  {
   "cell_type": "code",
   "execution_count": 22,
   "metadata": {},
   "outputs": [
    {
     "name": "stderr",
     "output_type": "stream",
     "text": [
      "Calculating distances:   0%|          | 0/121264 [00:00<?, ?it/s]"
     ]
    },
    {
     "name": "stderr",
     "output_type": "stream",
     "text": [
      "Calculating distances: 100%|██████████| 121264/121264 [00:31<00:00, 3910.98it/s]\n"
     ]
    }
   ],
   "source": [
    "from sklearn.metrics.pairwise import cosine_similarity\n",
    "from tqdm import tqdm\n",
    "import numpy as np\n",
    "\n",
    "def calculate_distances(df, embedding_column1, embedding_column2):\n",
    "    distances = []\n",
    "\n",
    "    for emb1, emb2 in tqdm(df[[embedding_column1, embedding_column2]].values, total=len(df), desc=\"Calculating distances\"):\n",
    "        cosine_sim = cosine_similarity([emb1], [emb2])[0][0]\n",
    "        \n",
    "        distance = 1 - cosine_sim\n",
    "        distance = min(1, max(0, distance))\n",
    "        \n",
    "        distances.append(distance)\n",
    "\n",
    "    return distances\n",
    "review_with_desc['distance'] = calculate_distances(review_with_desc, 'comment_embedding', 'desc_embedding')"
   ]
  },
  {
   "cell_type": "markdown",
   "metadata": {},
   "source": [
    "# Submission"
   ]
  },
  {
   "cell_type": "code",
   "execution_count": 23,
   "metadata": {},
   "outputs": [
    {
     "name": "stdout",
     "output_type": "stream",
     "text": [
      "Last updated: 2024-12-12T23:51:58.038665+03:00\n",
      "\n",
      "Python implementation: CPython\n",
      "Python version       : 3.12.7\n",
      "IPython version      : 8.27.0\n",
      "\n",
      "Compiler    : MSC v.1929 64 bit (AMD64)\n",
      "OS          : Windows\n",
      "Release     : 11\n",
      "Machine     : AMD64\n",
      "Processor   : Intel64 Family 6 Model 141 Stepping 1, GenuineIntel\n",
      "CPU cores   : 12\n",
      "Architecture: 64bit\n",
      "\n"
     ]
    }
   ],
   "source": [
    "from watermark import watermark\n",
    "\n",
    "submission = review_with_desc[['distance']]\n",
    "\n",
    "if submission.shape != (121264, 1):\n",
    "    raise ValueError(f\"Submission shape must be (121264, 1). {submission.shape} are given\")\n",
    "    \n",
    "if submission['distance'].min() < 0. or submission['distance'].max() > 1.0:\n",
    "    raise ValueError(f\"distance must be from 0. to 1.\")\n",
    "    \n",
    "print(watermark())\n",
    "# IMPORTANT\n",
    "# index must be set TRUE\n",
    "submission.to_csv(\"C:/Users/amalj/OneDrive/Desktop/Machine learning subjects/Machine learning DM2/H3/3-Nirmal_Joy.csv\", index=True)"
   ]
  },
  {
   "cell_type": "markdown",
   "metadata": {},
   "source": [
    "### Thanks \n",
    "#### Nirmal Joy"
   ]
  }
 ],
 "metadata": {
  "kernelspec": {
   "display_name": "base",
   "language": "python",
   "name": "python3"
  },
  "language_info": {
   "codemirror_mode": {
    "name": "ipython",
    "version": 3
   },
   "file_extension": ".py",
   "mimetype": "text/x-python",
   "name": "python",
   "nbconvert_exporter": "python",
   "pygments_lexer": "ipython3",
   "version": "3.12.7"
  }
 },
 "nbformat": 4,
 "nbformat_minor": 2
}
